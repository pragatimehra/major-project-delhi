{
 "cells": [
  {
   "cell_type": "markdown",
   "id": "8bc1a518",
   "metadata": {},
   "source": [
    "**Import necessary Libraries**"
   ]
  },
  {
   "cell_type": "code",
   "execution_count": 1,
   "id": "7780fefb",
   "metadata": {},
   "outputs": [],
   "source": [
    "import os\n",
    "import numpy as np\n",
    "import pandas as pd\n",
    "from matplotlib import pyplot as plt\n",
    "import seaborn as sns\n",
    "from sklearn.preprocessing import LabelEncoder\n",
    "from sklearn.model_selection import train_test_split\n",
    "from sklearn.ensemble import RandomForestRegressor\n",
    "from sklearn.metrics import r2_score\n",
    "import pickle as pkl"
   ]
  },
  {
   "cell_type": "markdown",
   "id": "954edcc7",
   "metadata": {},
   "source": [
    "**Initialize RandomForestRegressor**"
   ]
  },
  {
   "cell_type": "code",
   "execution_count": 2,
   "id": "7c67d3e5",
   "metadata": {},
   "outputs": [],
   "source": [
    "rfc = RandomForestRegressor()"
   ]
  },
  {
   "cell_type": "markdown",
   "id": "075ce467",
   "metadata": {},
   "source": [
    "**Load the Dataset**"
   ]
  },
  {
   "cell_type": "code",
   "execution_count": 3,
   "id": "fd8611ef",
   "metadata": {},
   "outputs": [],
   "source": [
    "data = pd.read_excel(\"Cleaned-Delhi-Prices.xlsx\")"
   ]
  },
  {
   "cell_type": "markdown",
   "id": "8500b3f3",
   "metadata": {},
   "source": [
    "**Encode 'Location' column**"
   ]
  },
  {
   "cell_type": "code",
   "execution_count": 4,
   "id": "3b60aa72",
   "metadata": {},
   "outputs": [],
   "source": [
    "le = LabelEncoder()\n",
    "data['Location'] = le.fit_transform(data['Location'])"
   ]
  },
  {
   "cell_type": "markdown",
   "id": "fcfd605a",
   "metadata": {},
   "source": [
    "**Log-transform 'Price' column**"
   ]
  },
  {
   "cell_type": "code",
   "execution_count": 5,
   "id": "a62f6a64",
   "metadata": {},
   "outputs": [],
   "source": [
    "data['Price'] = np.log(data['Price'])"
   ]
  },
  {
   "cell_type": "markdown",
   "id": "36864d9d",
   "metadata": {},
   "source": [
    "**Split into `features (x)` and `target variable (y)`**"
   ]
  },
  {
   "cell_type": "code",
   "execution_count": 6,
   "id": "bcd7f4e2",
   "metadata": {},
   "outputs": [],
   "source": [
    "x = data.drop('Price', axis='columns')\n",
    "y = data['Price']"
   ]
  },
  {
   "cell_type": "markdown",
   "id": "a743fd27",
   "metadata": {},
   "source": [
    "**Handle outliers in the 'Area' column**"
   ]
  },
  {
   "cell_type": "code",
   "execution_count": 7,
   "id": "f690e787",
   "metadata": {},
   "outputs": [],
   "source": [
    "q1 = x['Area'].quantile(0.25)\n",
    "q3 = x['Area'].quantile(0.75)\n",
    "iqr = q3 - q1\n",
    "u = q3 + 1.5 * iqr\n",
    "l = q1 - 1.5 * iqr\n",
    "out1 = x[x['Area'] < l].values\n",
    "out2 = x[x['Area'] > u].values\n",
    "x['Area'].replace(out1, l, inplace=True)\n",
    "x['Area'].replace(out2, u, inplace=True)"
   ]
  },
  {
   "cell_type": "markdown",
   "id": "60569742",
   "metadata": {},
   "source": [
    "**Handle outliers in the 'Price' column**"
   ]
  },
  {
   "cell_type": "code",
   "execution_count": 8,
   "id": "11e01724",
   "metadata": {},
   "outputs": [],
   "source": [
    "q1 = y.quantile(0.25)\n",
    "q3 = y.quantile(0.75)\n",
    "iqr = q3 - q1\n",
    "u = q3 + 1.5 * iqr\n",
    "l = q1 - 1.5 * iqr\n",
    "out1 = y[y < l].values\n",
    "out2 = y[y > u].values\n",
    "y.replace(out1, l, inplace=True)\n",
    "y.replace(out2, u, inplace=True)"
   ]
  },
  {
   "cell_type": "markdown",
   "id": "28ee5c45",
   "metadata": {},
   "source": [
    "**Split the data into Training and Testing sets**"
   ]
  },
  {
   "cell_type": "code",
   "execution_count": 9,
   "id": "4ddeb2b4",
   "metadata": {},
   "outputs": [],
   "source": [
    "x_train, x_test, y_train, y_test = train_test_split(x, y, random_state=0, train_size=0.3)"
   ]
  },
  {
   "cell_type": "markdown",
   "id": "a817b106",
   "metadata": {},
   "source": [
    "**Train the RandomForestRegressor model**"
   ]
  },
  {
   "cell_type": "code",
   "execution_count": 10,
   "id": "676e3682",
   "metadata": {},
   "outputs": [
    {
     "data": {
      "text/html": [
       "<style>#sk-container-id-1 {color: black;}#sk-container-id-1 pre{padding: 0;}#sk-container-id-1 div.sk-toggleable {background-color: white;}#sk-container-id-1 label.sk-toggleable__label {cursor: pointer;display: block;width: 100%;margin-bottom: 0;padding: 0.3em;box-sizing: border-box;text-align: center;}#sk-container-id-1 label.sk-toggleable__label-arrow:before {content: \"▸\";float: left;margin-right: 0.25em;color: #696969;}#sk-container-id-1 label.sk-toggleable__label-arrow:hover:before {color: black;}#sk-container-id-1 div.sk-estimator:hover label.sk-toggleable__label-arrow:before {color: black;}#sk-container-id-1 div.sk-toggleable__content {max-height: 0;max-width: 0;overflow: hidden;text-align: left;background-color: #f0f8ff;}#sk-container-id-1 div.sk-toggleable__content pre {margin: 0.2em;color: black;border-radius: 0.25em;background-color: #f0f8ff;}#sk-container-id-1 input.sk-toggleable__control:checked~div.sk-toggleable__content {max-height: 200px;max-width: 100%;overflow: auto;}#sk-container-id-1 input.sk-toggleable__control:checked~label.sk-toggleable__label-arrow:before {content: \"▾\";}#sk-container-id-1 div.sk-estimator input.sk-toggleable__control:checked~label.sk-toggleable__label {background-color: #d4ebff;}#sk-container-id-1 div.sk-label input.sk-toggleable__control:checked~label.sk-toggleable__label {background-color: #d4ebff;}#sk-container-id-1 input.sk-hidden--visually {border: 0;clip: rect(1px 1px 1px 1px);clip: rect(1px, 1px, 1px, 1px);height: 1px;margin: -1px;overflow: hidden;padding: 0;position: absolute;width: 1px;}#sk-container-id-1 div.sk-estimator {font-family: monospace;background-color: #f0f8ff;border: 1px dotted black;border-radius: 0.25em;box-sizing: border-box;margin-bottom: 0.5em;}#sk-container-id-1 div.sk-estimator:hover {background-color: #d4ebff;}#sk-container-id-1 div.sk-parallel-item::after {content: \"\";width: 100%;border-bottom: 1px solid gray;flex-grow: 1;}#sk-container-id-1 div.sk-label:hover label.sk-toggleable__label {background-color: #d4ebff;}#sk-container-id-1 div.sk-serial::before {content: \"\";position: absolute;border-left: 1px solid gray;box-sizing: border-box;top: 0;bottom: 0;left: 50%;z-index: 0;}#sk-container-id-1 div.sk-serial {display: flex;flex-direction: column;align-items: center;background-color: white;padding-right: 0.2em;padding-left: 0.2em;position: relative;}#sk-container-id-1 div.sk-item {position: relative;z-index: 1;}#sk-container-id-1 div.sk-parallel {display: flex;align-items: stretch;justify-content: center;background-color: white;position: relative;}#sk-container-id-1 div.sk-item::before, #sk-container-id-1 div.sk-parallel-item::before {content: \"\";position: absolute;border-left: 1px solid gray;box-sizing: border-box;top: 0;bottom: 0;left: 50%;z-index: -1;}#sk-container-id-1 div.sk-parallel-item {display: flex;flex-direction: column;z-index: 1;position: relative;background-color: white;}#sk-container-id-1 div.sk-parallel-item:first-child::after {align-self: flex-end;width: 50%;}#sk-container-id-1 div.sk-parallel-item:last-child::after {align-self: flex-start;width: 50%;}#sk-container-id-1 div.sk-parallel-item:only-child::after {width: 0;}#sk-container-id-1 div.sk-dashed-wrapped {border: 1px dashed gray;margin: 0 0.4em 0.5em 0.4em;box-sizing: border-box;padding-bottom: 0.4em;background-color: white;}#sk-container-id-1 div.sk-label label {font-family: monospace;font-weight: bold;display: inline-block;line-height: 1.2em;}#sk-container-id-1 div.sk-label-container {text-align: center;}#sk-container-id-1 div.sk-container {/* jupyter's `normalize.less` sets `[hidden] { display: none; }` but bootstrap.min.css set `[hidden] { display: none !important; }` so we also need the `!important` here to be able to override the default hidden behavior on the sphinx rendered scikit-learn.org. See: https://github.com/scikit-learn/scikit-learn/issues/21755 */display: inline-block !important;position: relative;}#sk-container-id-1 div.sk-text-repr-fallback {display: none;}</style><div id=\"sk-container-id-1\" class=\"sk-top-container\"><div class=\"sk-text-repr-fallback\"><pre>RandomForestRegressor()</pre><b>In a Jupyter environment, please rerun this cell to show the HTML representation or trust the notebook. <br />On GitHub, the HTML representation is unable to render, please try loading this page with nbviewer.org.</b></div><div class=\"sk-container\" hidden><div class=\"sk-item\"><div class=\"sk-estimator sk-toggleable\"><input class=\"sk-toggleable__control sk-hidden--visually\" id=\"sk-estimator-id-1\" type=\"checkbox\" checked><label for=\"sk-estimator-id-1\" class=\"sk-toggleable__label sk-toggleable__label-arrow\">RandomForestRegressor</label><div class=\"sk-toggleable__content\"><pre>RandomForestRegressor()</pre></div></div></div></div></div>"
      ],
      "text/plain": [
       "RandomForestRegressor()"
      ]
     },
     "execution_count": 10,
     "metadata": {},
     "output_type": "execute_result"
    }
   ],
   "source": [
    "rfc.fit(x_train, y_train)"
   ]
  },
  {
   "cell_type": "markdown",
   "id": "d3ff571b",
   "metadata": {},
   "source": [
    "**Make predictions on the Test Set**"
   ]
  },
  {
   "cell_type": "code",
   "execution_count": 11,
   "id": "af334340",
   "metadata": {},
   "outputs": [],
   "source": [
    "y_pred = rfc.predict(x_test)"
   ]
  },
  {
   "cell_type": "markdown",
   "id": "a0105aac",
   "metadata": {},
   "source": [
    "**Evaluate the Model**"
   ]
  },
  {
   "cell_type": "code",
   "execution_count": 12,
   "id": "05c60cb8",
   "metadata": {},
   "outputs": [
    {
     "name": "stdout",
     "output_type": "stream",
     "text": [
      "R-squared Score: 0.3844963003651065\n"
     ]
    }
   ],
   "source": [
    "print(\"R-squared Score:\", r2_score(y_test, y_pred))"
   ]
  },
  {
   "cell_type": "markdown",
   "id": "9715997f",
   "metadata": {},
   "source": [
    "**Save the Trained Model to Pickle File**"
   ]
  },
  {
   "cell_type": "code",
   "execution_count": 13,
   "id": "944b3d3f",
   "metadata": {},
   "outputs": [],
   "source": [
    "pkl.dump(rfc, open('model.pkl', 'wb'))"
   ]
  },
  {
   "cell_type": "code",
   "execution_count": null,
   "id": "4c681205",
   "metadata": {},
   "outputs": [],
   "source": []
  }
 ],
 "metadata": {
  "kernelspec": {
   "display_name": "Python 3 (ipykernel)",
   "language": "python",
   "name": "python3"
  },
  "language_info": {
   "codemirror_mode": {
    "name": "ipython",
    "version": 3
   },
   "file_extension": ".py",
   "mimetype": "text/x-python",
   "name": "python",
   "nbconvert_exporter": "python",
   "pygments_lexer": "ipython3",
   "version": "3.11.4"
  }
 },
 "nbformat": 4,
 "nbformat_minor": 5
}
